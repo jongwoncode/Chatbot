{
 "cells": [
  {
   "attachments": {},
   "cell_type": "markdown",
   "metadata": {},
   "source": [
    "# **🧢Transformer Model**\n",
    "\n",
    "* **Seq2Seq** 모델과 같이 인코더와 디코더로 구성됨.\n",
    "* **Seq2Seq** 모델에서 사용한 순환 신경망을 사용하지 않고, **Self Attention** 기법을 사용하여 문장에 대한 정보를 추출함.\n",
    "\n",
    "<img src=\"./image/transformer_all.png\" width=\"600\" height=\"600\">"
   ]
  },
  {
   "cell_type": "code",
   "execution_count": 8,
   "metadata": {},
   "outputs": [],
   "source": [
    "import json\n",
    "import os\n",
    "\n",
    "import numpy as np\n",
    "import pandas as pd\n",
    "import matplotlib.pyplot as plt\n",
    "\n",
    "from sklearn.model_selection import train_test_split\n",
    "import tensorflow as tf\n",
    "from tensorflow.keras.callbacks import EarlyStopping, ModelCheckpoint\n",
    "\n",
    "from word_preprocess import * "
   ]
  },
  {
   "attachments": {},
   "cell_type": "markdown",
   "metadata": {},
   "source": [
    "## 🌈**Self-Attention**\n",
    "\n",
    "* 문장에서 각 단어끼리 얼마나 관계가 있는지를 계산해서 반영하는 방법.\n",
    "  - 문장 : **['딥러닝', '자연어', '처리', '아주', '좋아요']**\n",
    "\n",
    "* **Attension score**\n",
    "  - 각 단어('딥러닝')를 기준으로 다른 단어들과의 관계 값을 계산\n",
    "  - 트렌스포머 모델에서는 단어 벡터끼리 내적 연산을 통해 Attention score를 구함.\n",
    "    - $attention\\_score_{q(딥러닝)\\_k(딥러닝)} = vector_{q(딥러닝)} * vector_{k(딥러닝)} = 25$\n",
    "    - $attention\\_score_{q(딥러닝)\\_k(자연어)} = vector_{q(딥러닝)} * vector_{k(자연어)} = 25$\n",
    "    - $attention\\_score_{q(딥러닝)\\_k(처리)} = vector_{q(딥러닝)} * vector_{k(처리)} = 24.3$\n",
    "    - $attention\\_score_{q(딥러닝)\\_k(아주)} = vector_{q(딥러닝)} * vector_{k(아주)} = 24.3$\n",
    "    - $attention\\_score_{q(딥러닝)\\_k(좋아요)} = vector_{q(딥러닝)} * vector_{k(좋아요)} = 24$\n",
    "\n",
    "* **Attension map**\n",
    "  - 각 단어들의 attention score를 하나의 테이블로 만든 것을 Attention map 이라고 함.\n",
    "  - Attention map에 softmax함수를 취해서, 특정 단어('딥러닝')에 대해 다른 단어들의 연관정도가 확률로 나타남.\n",
    "    - $attention\\;map = [25, 25, 24.3, 24.3, 24]$\n",
    "    - $softmax(attention\\;map) = [0.3, 0.3, 0.15, 0.15, 0.1]$\n",
    "\n",
    "\n",
    "* **Context vector**\n",
    "  - 각 단어 벡터들에 대해서 attention score값을 곱해주고 더해주는 weighted sum 연산을 통해 단어 '딥러닝'의 Context vector를 구해줌.\n",
    "    - $context\\_vector_{q(딥러닝)} = softmax(attention\\_score_{q(딥러닝)\\_k(딥러닝)}*vector_{v(딥러닝)}$\n",
    "    - $\\qquad \\qquad \\qquad \\qquad \\qquad + softmax(attention\\_score_{q(딥러닝)\\_k(자연어)})*vector_{v(자연어)}$\n",
    "    - $\\qquad \\qquad \\qquad \\qquad \\quad + softmax(attention\\_score_{q(딥러닝)\\_k(처리)})*vector_{v(처리)}$\n",
    "    - $\\qquad \\qquad \\qquad \\qquad \\quad + softmax(attention\\_score_{q(딥러닝)\\_k(아주)})*vector_{v(아주)}$\n",
    "    - $\\qquad \\qquad \\qquad \\qquad \\qquad + softmax(attention\\_score_{q(딥러닝)\\_k(좋아요)})*vector_{v(좋아요)}$\n"
   ]
  },
  {
   "attachments": {},
   "cell_type": "markdown",
   "metadata": {},
   "source": [
    "## 🌈**scaled dot product attention**\n",
    "\n",
    "* **self attention 방식**을 기반으로 구성됨. 내적 어텐션 구조가 중첩된 형태.\n",
    "* **내적 어텐션, 순방향 어텐션 마스크, 멀티 헤드 어텐션**\n",
    "  * $Attention(Q,K,V)=softmax\\left (\\frac{QK^{T}}{\\sqrt{d_{k}}}  \\right )V$\n",
    "  * $One\\; query\\;:\\;Q_{(1\\times n)}, K_{(1\\times n)}, V_{(1\\times n)}, Attention(Q,K,V)_{(1\\times n)},d_{k}=n$\n",
    "  * $All\\; query\\;:\\;Q_{(m\\times n)}, K_{(m\\times n)}, V_{(m\\times n)}, Attention(Q,K,V)_{(m\\times n)},d_{k}=n$\n",
    "\n",
    "* quert와 value를 이용해 내적한 값이 벡터의 차원이 커지면 학습이 잘 안될 수 있기 때문에 벡터의 크기에 반비례하도록 크기를 조정 $d_{k}$."
   ]
  },
  {
   "cell_type": "code",
   "execution_count": 9,
   "metadata": {},
   "outputs": [],
   "source": [
    "def scaled_dot_product_attention(q, k, v, mask) :\n",
    "    matmul_qk = tf.matmul(q, k, transpose_b=True)\n",
    "    dk = tf.cast(tf.shape(k)[-1], tf.float32)\n",
    "    scaled_attention_logits = matmul_qk/tf.math.sqrt(dk)\n",
    "\n",
    "    if mask is not None :\n",
    "        scaled_attention_logits += (mask * -1e9)\n",
    "    \n",
    "    attention_weights = tf.nn.softmax(scaled_attention_logits, axis=-1)\n",
    "    output = tf.matmul(attention_weights, v)\n",
    "    return output, attention_weights"
   ]
  },
  {
   "attachments": {},
   "cell_type": "markdown",
   "metadata": {},
   "source": [
    "## 🌈 **Subsequent Masked Attention(순방향 마스크 어텐션)**\n",
    "- seq2seq 모델은 스텝이 존재해서 각 스텝마다 단어가 입력으로 들어가는 구조이지만\n",
    "- transformer 모델은 전체 문장이 한번에 행렬 형태로 입력되는 구조이며 이런 부분이 문제가 될 수 있다.\n",
    "    - 예를 들어, 문장을 예측하는 과정에서 디코더 부분에 입력이 들어갈 텐데 순환 신경망 구조의 경우 자신보다 앞에 있는 단어만 참고해서 단어를 예측한다.\n",
    "    - 하지만, 트랜스포머의 경우 전체 문장이 들어가기 때문에 위치와 상관없이 모든 단어를 참고해 예측하는 문제가 발생.\n",
    "    - 이러한 문제를 해결하기 위해 자신보다 뒤에 있는 단어들은 참고하지 않게 하는 기법이 **mask**기법이다."
   ]
  },
  {
   "cell_type": "code",
   "execution_count": 10,
   "metadata": {},
   "outputs": [
    {
     "data": {
      "text/plain": [
       "<tf.Tensor: shape=(5, 8), dtype=float32, numpy=\n",
       "array([[  -0., -100., -100., -100., -100., -100., -100., -100.],\n",
       "       [  -0.,   -0., -100., -100., -100., -100., -100., -100.],\n",
       "       [  -0.,   -0.,   -0., -100., -100., -100., -100., -100.],\n",
       "       [  -0.,   -0.,   -0.,   -0., -100., -100., -100., -100.],\n",
       "       [  -0.,   -0.,   -0.,   -0.,   -0., -100., -100., -100.]],\n",
       "      dtype=float32)>"
      ]
     },
     "execution_count": 10,
     "metadata": {},
     "output_type": "execute_result"
    }
   ],
   "source": [
    "import tensorflow as tf\n",
    "mask = 1 - tf.linalg.band_part(tf.ones((5, 8)), -1, 0)\n",
    "mask*-100"
   ]
  },
  {
   "cell_type": "code",
   "execution_count": 11,
   "metadata": {},
   "outputs": [],
   "source": [
    "def create_look_ahead_mask(size) :\n",
    "    mask = 1 - tf.linalg.band_part(tf.ones((size, size)), -1, 0)\n",
    "    return mask"
   ]
  },
  {
   "cell_type": "code",
   "execution_count": 12,
   "metadata": {},
   "outputs": [],
   "source": [
    "def create_padding_mask(seq) :\n",
    "    seq = tf.cast(tf.math.equal(seq, 0), tf.float32)\n",
    "    return seq[:, tf.newaxis, tf.newaxis, :] # (batch, 1, 1 ,seq_len)"
   ]
  },
  {
   "cell_type": "code",
   "execution_count": 13,
   "metadata": {},
   "outputs": [],
   "source": [
    "def create_masks(inp, tar) :\n",
    "    # Encoder padding mask\n",
    "    enc_padding_mask = create_padding_mask(inp)\n",
    "\n",
    "    # Used in Decoder's 2nd attention block\n",
    "    dec_padding_mask = create_padding_mask(inp)\n",
    "\n",
    "    # Used in Decoder's 1st attention block\n",
    "    look_ahead_mask = create_look_ahead_mask(tf.shape(tar)[1])\n",
    "    dec_target_padding_mask = create_padding_mask(tar)\n",
    "    combined_mask = tf.maximum(dec_target_padding_mask, look_ahead_mask)\n",
    "    \n",
    "    return enc_padding_mask, combined_mask, dec_padding_mask "
   ]
  },
  {
   "attachments": {},
   "cell_type": "markdown",
   "metadata": {},
   "source": [
    "## 🌈**Multi-Head Attention**\n",
    "\n",
    "* 여러 개의 Scaled Dot-Product Attention들을 통해 다양한 context를 읽은 뒤 합치는 방식을 Multi-head Attention이라고 함.\n",
    "1. query, key, value에 대한 feature를 head 수 만큼 나눔\n",
    "2. 각각의 head에 대해 Linear Layer를 거침.\n",
    "3. 각각의 Linear Layer 출력값에 대해 Scaled Dot-Product Attention을 구함.\n",
    "4. 합쳐서 Multi-Head Attention 값을 구함"
   ]
  },
  {
   "cell_type": "code",
   "execution_count": 14,
   "metadata": {},
   "outputs": [],
   "source": [
    "class MultiHeadAttention(tf.keras.layers.Layer) :\n",
    "    def __init__(self, **kargs) :\n",
    "        super(MultiHeadAttention, self).__init__()\n",
    "        self.num_heads = kargs['num_heads']\n",
    "        self.d_model = kargs['d_model']\n",
    "        \n",
    "        assert self.d_model % self.num_heads == 0\n",
    "\n",
    "        self.depth = self.d_model // self.num_heads\n",
    "        self.wq = tf.keras.layers.Dense(kargs['d_model'])\n",
    "        self.wk = tf.keras.layers.Dense(kargs['d_model'])\n",
    "        self.wv = tf.keras.layers.Dense(kargs['d_model'])\n",
    "        \n",
    "        self.dense = tf.keras.layers.Dense(kargs['d_model'])\n",
    "\n",
    "    def split_heads(self, x, batch_size) :\n",
    "        x = tf.reshape(x, (batch_size, -1, self.num_heads, self.depth))\n",
    "        return tf.transpose(x, perm=[0, 2, 1, 3])\n",
    "\n",
    "    def call(self, v, k, q, mask) :\n",
    "        batch_size = tf.shape(q)[0]\n",
    "\n",
    "        q = self.wq(q) # (batch_size, seq_len, d_model)\n",
    "        k = self.wk(k) # (batch_size, seq_len, d_model)\n",
    "        v = self.wv(v) # (batch_size, seq_len, d_model)\n",
    "        \n",
    "        q = self.split_heads(q, batch_size) # (batch_size, num_head, seq_len, depth)\n",
    "        k = self.split_heads(k, batch_size) # (batch_size, num_head, seq_len, depth)\n",
    "        v = self.split_heads(v, batch_size) # (batch_size, num_head, seq_len, depth)\n",
    "        \n",
    "        scaled_attention, attention_weights = scaled_dot_product_attention(q, k, v, mask)   # (batch_size, num_head, seq_len, depth)\n",
    "        scaled_attention = tf.transpose(scaled_attention, perm=[0, 2, 1, 3])                # (batch_size, seq_len, num_head, depth) \n",
    "        concat_attention = tf.reshape(scaled_attention, (batch_size, -1, self.d_model))     # (batch_size, seq_len, d_model)\n",
    "        output = self.dense(concat_attention)\n",
    "\n",
    "        return output, attention_weights\n"
   ]
  },
  {
   "attachments": {},
   "cell_type": "markdown",
   "metadata": {},
   "source": [
    "## 🌈**Position-wise feed forward network**\n",
    "\n",
    "* transformer model은 self-attention layer에서 출력된 값을 feed forward network를 거침\n",
    "\n",
    "$$\n",
    "FFN(x) = max(0, xW_{1} + b_{1})W_{2} + b_{2}\n",
    "\n",
    "$$"
   ]
  },
  {
   "cell_type": "code",
   "execution_count": 15,
   "metadata": {},
   "outputs": [],
   "source": [
    "def point_wise_feed_forward_network(**kargs) :\n",
    "    return tf.keras.Sequential([tf.keras.layers.Dense(kargs['dff'], activation='relu'),\n",
    "                                tf.keras.layers.Dense(kargs['d_model'])])"
   ]
  },
  {
   "attachments": {},
   "cell_type": "markdown",
   "metadata": {},
   "source": [
    "## 🌈**Residual connection**\n",
    "\n",
    "* transformer model은 residual connection을 한 다음, 레이어에 대한 값을 Normalization하는 Layer Normalization을 수행함.\n",
    "\n",
    "**Encoder Layer**\n",
    "\n",
    "* 아래 코드는 Encoder Layer에서 Residual Connection을 구현한 모습.\n",
    "* Transformer 전체 구조의 **Add&Norm**에 해당되는 부분으로 자주 사용된다.\n",
    "```python\n",
    "\n",
    "self.ffn = point_wise_feed_forward_network(**kargs)\n",
    "self.layernorm2 = tf.keras.layers.LayerNormalization(epsilon=1e-6)\n",
    "\n",
    "ffn_output = self.ffn(out1)\n",
    "ffn_output = self.dropout2(ffn_output)\n",
    "out2 = self.layernorm2(out1 + ffn_output)\n",
    "```"
   ]
  },
  {
   "attachments": {},
   "cell_type": "markdown",
   "metadata": {},
   "source": [
    "## 🌈**Positional-Encoding**\n",
    "\n",
    "* transformer model은 입력 데이터를 순차적으로 제공하는 것이 아니라 한번에 입력해주기 때문에 입력 시퀀스에 대한 정보를 추가로 넣어줘야 함.\n",
    "* **\"Positional Encoding\"** 은 트렌스포머 모델에 입력값의 순서 정보를 입력해주기 위해 사용한 방법.\n",
    "\n",
    "$$\n",
    "PE_{(pos,2i)}=\\sin \\left ( pos/10000^{2i/d_{model}} \\right ) \\\\\n",
    "PE_{(pos,2i+1)}=\\cos \\left ( pos/10000^{2i/d_{model}} \\right )\n",
    "$$\n",
    "\n",
    "* 각 단어를 Embedding 했을 때 embedding된 데이터의 feature 인덱스가 짝수인 경우 $cos$ 함수 할당.\n",
    "* 각 단어를 Embedding 했을 때 embedding된 데이터의 feature 인덱스가 홀수인 경우 $sin$ 함수 할당.\n",
    "\n",
    "* 입력 단어의 순서는 $pos$에 반영 됨\n",
    "* 뒷 부분은 생각 해보자\n",
    "\n"
   ]
  },
  {
   "cell_type": "code",
   "execution_count": 16,
   "metadata": {},
   "outputs": [],
   "source": [
    "def get_angles(pos, i, d_model) :\n",
    "    angle_rates = 1 / np.power(10000, (2*i//2)/np.float32(d_model))\n",
    "    return pos * angle_rates\n",
    "\n",
    "def positional_encoding(position, d_model) :\n",
    "    angle_rads = get_angles(pos = np.arange(position)[:, np.newaxis],\n",
    "                            i = np.arange(d_model)[np.newaxis, :],\n",
    "                            d_model = d_model)\n",
    "    angle_rads[:, 0::2] = np.sin(angle_rads[:, 0::2])\n",
    "    angle_rads[:, 1::2] = np.cos(angle_rads[:, 1::2])\n",
    "\n",
    "    pos_encoding = angle_rads[np.newaxis, ...]\n",
    "    return tf.cast(pos_encoding, dtype=tf.float32)"
   ]
  },
  {
   "attachments": {},
   "cell_type": "markdown",
   "metadata": {},
   "source": [
    "**positional encoding example**\n",
    "\n",
    "* position = 25  : 최대 입력 단어\n",
    "* d_model = 64   : 각 단어 embedding 차원"
   ]
  },
  {
   "cell_type": "code",
   "execution_count": 17,
   "metadata": {},
   "outputs": [
    {
     "name": "stdout",
     "output_type": "stream",
     "text": [
      "shape of pos : (25, 1)\n",
      "shape of i : (1, 64)\n",
      "shape of angle_rads : (25, 64)\n",
      "shape of pos_encoding : (1, 25, 64)\n"
     ]
    },
    {
     "data": {
      "image/png": "[encoded data removed]",
      "text/plain": [
       "<Figure size 432x288 with 2 Axes>"
      ]
     },
     "metadata": {
      "needs_background": "light"
     },
     "output_type": "display_data"
    }
   ],
   "source": [
    "position = 25\n",
    "d_model = 64\n",
    "pos = np.arange(position)[:, np.newaxis]\n",
    "i = np.arange(d_model)[np.newaxis, :]\n",
    "angle_rads = get_angles(pos, i, d_model)\n",
    "pos_encoding = positional_encoding(position, d_model)\n",
    "\n",
    "print(f'shape of pos : {pos.shape}')\n",
    "print(f'shape of i : {i.shape}')\n",
    "print(f'shape of angle_rads : {angle_rads.shape}')\n",
    "print(f'shape of pos_encoding : {pos_encoding.shape}')\n",
    "\n",
    "\n",
    "plt.pcolormesh(pos_encoding[0], cmap='RdBu')\n",
    "plt.xlabel('Depth')\n",
    "plt.xlim((0, 64))\n",
    "plt.ylabel('Position')\n",
    "plt.colorbar()\n",
    "plt.show()"
   ]
  },
  {
   "attachments": {},
   "cell_type": "markdown",
   "metadata": {},
   "source": [
    "# **🧢Encoder**\n",
    "\n",
    "## 🌈**EnocderLayer**\n",
    "\n",
    "* **🌟Multi-Head Attention**\n",
    "* **🌟position wise feed-foward network**\n",
    "* **🌟Layer Normalization**\n",
    "* **🌟Dropout**\n",
    "* **🌟Residual Network**"
   ]
  },
  {
   "cell_type": "code",
   "execution_count": 18,
   "metadata": {},
   "outputs": [],
   "source": [
    "class EnocderLayer(tf.keras.layers.Layer) :\n",
    "    def __init__(self, **kargs) :\n",
    "        super(EnocderLayer, self).__init__()\n",
    "\n",
    "        self.mha = MultiHeadAttention(**kargs)\n",
    "        self.ffn = point_wise_feed_forward_network(**kargs)\n",
    "\n",
    "        self.layernorm1 = tf.keras.layers.LayerNormalization(epsilon=1e-6)\n",
    "        self.layernorm2 = tf.keras.layers.LayerNormalization(epsilon=1e-6)\n",
    "\n",
    "        self.dropout1 = tf.keras.layers.Dropout(kargs['rate'])\n",
    "        self.dropout2 = tf.keras.layers.Dropout(kargs['rate'])\n",
    "    \n",
    "    def call(self, x, mask) :\n",
    "        attn_output, _ = self.mha(x, x, x, mask)\n",
    "        attn_output = self.dropout1(attn_output)\n",
    "        out1 = self.layernorm1(x + attn_output)\n",
    "\n",
    "        ffn_output = self.ffn(out1)\n",
    "        ffn_output = self.dropout2(ffn_output)\n",
    "        out2 = self.layernorm2(out1 + ffn_output)\n",
    "        return out2"
   ]
  },
  {
   "attachments": {},
   "cell_type": "markdown",
   "metadata": {},
   "source": [
    "## 🌈**Encoder**\n",
    "<img src=\"./image/transformer_all.png\" width=\"400\" height=\"400\">"
   ]
  },
  {
   "cell_type": "code",
   "execution_count": 19,
   "metadata": {},
   "outputs": [],
   "source": [
    "class Encoder(tf.keras.layers.Layer) :\n",
    "    def __init__(self, **kargs) :\n",
    "        super(Encoder, self).__init__()\n",
    "        self.d_model = kargs['d_model']\n",
    "        self.num_layers = kargs['num_layers']\n",
    "        # (1) Input Embedding\n",
    "        self.embedding = tf.keras.layers.Embedding(kargs['input_vocab_size'], self.d_model)\n",
    "        \n",
    "        # (2) Positional Encoding\n",
    "        self.pos_encoding = positional_encoding(kargs['maximum_position_encoding'], self.d_model)\n",
    "        \n",
    "        # (3) Dropout after positional encoding\n",
    "        self.dropout = tf.keras.layers.Dropout(kargs['rate'])\n",
    "\n",
    "        # (4) Encoder Layers\n",
    "        self.enc_layers = [EnocderLayer(**kargs) for _ in range(self.num_layers)]\n",
    "    \n",
    "    def call(self, x, mask) :\n",
    "        seq_len = tf.shape(x)[1]\n",
    "        # Input Embedding, Positional Encoding, Dropout\n",
    "        x = self.embedding(x)                                   # (1)\n",
    "        x *= tf.math.sqrt(tf.cast(self.d_model, tf.float32))    # 각 가중치에 대해 sqrt(d_model) 만큼 값을 곱함. -> 각 워드 임베딩에 대해 스케일을 맞추기 위한 과정.\n",
    "        x += self.pos_encoding[:, :seq_len, :]                  # (2)\n",
    "        x = self.dropout(x)                                     # (3)\n",
    "\n",
    "        # (4) xN Encoder Layer\n",
    "        for i in range(self.num_layers) :\n",
    "            x = self.enc_layers[i](x, mask)\n",
    "        \n",
    "        return x"
   ]
  },
  {
   "attachments": {},
   "cell_type": "markdown",
   "metadata": {},
   "source": [
    "# **🧢Decoder**\n",
    "\n",
    "<img src=\"./image/transformer_all.png\" width=\"600\" height=\"600\">\n",
    "\n",
    "## 🌈**DecoderLayer**\n"
   ]
  },
  {
   "attachments": {},
   "cell_type": "markdown",
   "metadata": {},
   "source": [
    "* **🌟Masked Multi-Head Attention**\n",
    "  - 디코더의 입력 사이의 관계를 계산하는 self attention 구조\n",
    "  - 예측해야 하는 디코더에서 특정 단어 이후의 단어를 참고하지 않도록 Mask 설정을 추가\n",
    "* **🌟Multi-Head Attention**\n",
    "  - 인코더와 디코더의 관계를 구하는 attention 구조\n",
    "* **🌟position wise feed-foward network**"
   ]
  },
  {
   "cell_type": "code",
   "execution_count": 20,
   "metadata": {},
   "outputs": [],
   "source": [
    "class DecoderLayer(tf.keras.layers.Layer) :\n",
    "    def __init__(self, **kargs) :\n",
    "        super(DecoderLayer, self).__init__()\n",
    "        # Masked Multi-Head Attention\n",
    "        self.mha1 = MultiHeadAttention(**kargs)\n",
    "        self.dropout1 = tf.keras.layers.Dropout(kargs['rate'])\n",
    "        self.layernorm1 = tf.keras.layers.LayerNormalization(epsilon=1e-6)\n",
    "        # Multi-Head Attention\n",
    "        self.mha2 = MultiHeadAttention(**kargs)\n",
    "        self.dropout2 = tf.keras.layers.Dropout(kargs['rate'])\n",
    "        self.layernorm2 = tf.keras.layers.LayerNormalization(epsilon=1e-6)\n",
    "        \n",
    "        # Position wise feed forward network\n",
    "        self.ffn = point_wise_feed_forward_network(**kargs)\n",
    "        self.dropout3 = tf.keras.layers.Dropout(kargs['rate'])\n",
    "        self.layernorm3 = tf.keras.layers.LayerNormalization(epsilon=1e-6)\n",
    "\n",
    "    def call(self, x, enc_output, look_ahead_mask, padding_mask) :\n",
    "        # Masked Multi-Head Attetion\n",
    "        # value : Decoder's Input vector\n",
    "        # key   : Decoder's Input vector\n",
    "        # query : Decoder's Input vector\n",
    "        attn1, attn_weights_block1 = self.mha1(x, x, x, look_ahead_mask)    # Subsequent Masked Multi-Head Attention\n",
    "        attn1 = self.dropout1(attn1)\n",
    "        out1 = self.layernorm1(attn1 + x)\n",
    "        # Multi-Head Attetion\n",
    "        # value : Context Vector from Encoder\n",
    "        # key   : Context Vetor from Encoder\n",
    "        # query : Context Vector from Decoder's Masked Multi-Head Attenstion's \n",
    "        attn2, attn_weights_block2 = self.mha2(enc_output, enc_output, out1, padding_mask)    \n",
    "        attn2 = self.dropout2(attn2)\n",
    "        out2 = self.layernorm1(attn2 + out1)\n",
    "\n",
    "        # Position Wise Feed Foward Network\n",
    "        ffn_output = self.ffn(out2)\n",
    "        ffn_output = self.dropout3(ffn_output)\n",
    "        out3 = self.layernorm3(ffn_output + out2)\n",
    "\n",
    "        return out3, attn_weights_block1, attn_weights_block2"
   ]
  },
  {
   "attachments": {},
   "cell_type": "markdown",
   "metadata": {},
   "source": [
    "## 🌈**Decoder**\n",
    "\n",
    "<img src=\"./image/transformer_all.png\" width=\"400\" height=\"400\">"
   ]
  },
  {
   "cell_type": "code",
   "execution_count": 21,
   "metadata": {},
   "outputs": [],
   "source": [
    "class Decoder(tf.keras.layers.Layer) :\n",
    "    def __init__(self, **kargs) : \n",
    "        super(Decoder, self).__init__()\n",
    "        self.d_model = kargs['d_model']\n",
    "        self.num_layers = kargs['num_layers']\n",
    "        # (1) Output Embedding\n",
    "        self.embedding = tf.keras.layers.Embedding(kargs['target_vocab_size'], self.d_model)\n",
    "\n",
    "        # (2) Positional Encoding\n",
    "        self.pos_encoding = positional_encoding(kargs['maximum_position_encoding'], self.d_model)  \n",
    "\n",
    "        # (3) Dropout\n",
    "        self.dropout = tf.keras.layers.Dropout(kargs['rate'])\n",
    "\n",
    "        # (4) xN Decoder Layer\n",
    "        self.dec_layers = [DecoderLayer(**kargs) for _ in range(self.num_layers)]\n",
    "        \n",
    "\n",
    "    def call(self, x, enc_output, look_ahead_mask, padding_mask) :\n",
    "        seq_len = tf.shape(x)[1]\n",
    "        attention_weights = {}\n",
    "        # Embedding, Positional Encoding, Dropout\n",
    "        x = self.embedding(x)\n",
    "        x *= tf.math.sqrt(tf.cast(self.d_model, tf.float32))\n",
    "        x += self.pos_encoding[:, :seq_len, :]\n",
    "        x = self.dropout(x)\n",
    "\n",
    "        # xN Decoder Layer\n",
    "        for i in range(self.num_layers) :\n",
    "            x, block1, block2 = self.dec_layers[i](x, enc_output, look_ahead_mask, padding_mask)\n",
    "            attention_weights['decoder_layer{}_block1'.format(i+1)] = block1\n",
    "            attention_weights['decoder_layer{}_block2'.format(i+1)] = block2\n",
    "\n",
    "        return x, attention_weights"
   ]
  },
  {
   "attachments": {},
   "cell_type": "markdown",
   "metadata": {},
   "source": [
    "# **🧢Transformer 구현**\n",
    "\n",
    "<img src=\"./image/transformer_all.png\" width=\"400\" height=\"400\">"
   ]
  },
  {
   "cell_type": "code",
   "execution_count": 22,
   "metadata": {},
   "outputs": [],
   "source": [
    "class Transformer(tf.keras.Model) :\n",
    "    def __init__(self, **kargs) :\n",
    "        super(Transformer, self).__init__()\n",
    "        self.end_token_idx = kargs['end_token_idx']\n",
    "        self.encoder = Encoder(**kargs)\n",
    "        self.decoder = Decoder(**kargs)\n",
    "\n",
    "        self.final_layer = tf.keras.layers.Dense(kargs['target_vocab_size'])\n",
    "\n",
    "    def call(self, x) :\n",
    "        inp, tar = x\n",
    "        enc_padding_mask, look_ahead_mask, dec_padding_mask = create_masks(inp, tar)\n",
    "        enc_output = self.encoder(inp, enc_padding_mask)\n",
    "\n",
    "        dec_output, _ = self.decoder(tar, enc_output, look_ahead_mask, dec_padding_mask)\n",
    "        \n",
    "        final_output = self.final_layer(dec_output)\n",
    "        return final_output\n",
    "        \n",
    "    def inference(self, x) :\n",
    "        inp = x\n",
    "        tar = tf.expand_dims([STD_INDEX], 0)\n",
    "        enc_padding_mask, look_ahead_mask, dec_padding_mask = create_masks(inp, tar)\n",
    "        enc_output = self.encoder(inp, enc_padding_mask)\n",
    "\n",
    "        predict_tokens = list()\n",
    "        for t in range(0, MAX_SEQUENCE) :\n",
    "            dec_output, _ = self.decoder(tar, enc_output, look_ahead_mask, dec_padding_mask)\n",
    "            final_output = self.final_layer(dec_output)\n",
    "            outputs = tf.argmax(final_output, -1).numpy()\n",
    "            pred_token = outputs[0][-1]\n",
    "            if pred_token == self.end_token_idx :\n",
    "                break\n",
    "            predict_tokens.append(pred_token)\n",
    "            tar = tf.expand_dims([STD_INDEX] + predict_tokens, 0)\n",
    "            _, look_ahead_mask, dec_padding_mask = create_masks(inp, tar)\n",
    "        \n",
    "        return predict_tokens\n"
   ]
  },
  {
   "cell_type": "code",
   "execution_count": 23,
   "metadata": {},
   "outputs": [],
   "source": [
    "DATA_IN_PATH = os.path.join(os.getcwd(), 'data')\n",
    "DATA_OUT_PATH = os.path.join(os.getcwd(), 'result', 'transformer_kor')\n",
    "TRAIN_INPUTS = os.path.join(DATA_IN_PATH, 'train_inputs.npy')\n",
    "TRAIN_OUTPUTS = os.path.join(DATA_IN_PATH, 'train_outputs.npy')\n",
    "TRAIN_TARGETS = os.path.join(DATA_IN_PATH, 'train_targets.npy')\n",
    "DATA_CONFIGS = os.path.join(DATA_IN_PATH, 'data_configs.json')"
   ]
  },
  {
   "cell_type": "code",
   "execution_count": 24,
   "metadata": {},
   "outputs": [],
   "source": [
    "SEED_NUM = 1234\n",
    "tf.random.set_seed(SEED_NUM)"
   ]
  },
  {
   "cell_type": "code",
   "execution_count": 25,
   "metadata": {},
   "outputs": [],
   "source": [
    "index_inputs = np.load(open(TRAIN_INPUTS, 'rb'))\n",
    "index_outputs = np.load(open(TRAIN_OUTPUTS, 'rb'))\n",
    "index_targets = np.load(open(TRAIN_TARGETS, 'rb'))\n",
    "prepro_configs = json.load(open(DATA_CONFIGS, 'r'))"
   ]
  },
  {
   "cell_type": "code",
   "execution_count": 26,
   "metadata": {},
   "outputs": [],
   "source": [
    "char2idx = prepro_configs['char2idx']\n",
    "end_index = prepro_configs['end_symbol']\n",
    "model_name = 'transformer'\n",
    "vocab_size = prepro_configs['vocab_size']\n",
    "BATCH_SIZE = 64\n",
    "MAX_SEQUENCE = 25\n",
    "EPOCHS = 1\n",
    "VALID_SPLIT = 0.1\n",
    "\n",
    "kargs = {'model_name': model_name,\n",
    "         'num_layers': 4,\n",
    "         'd_model': 512,\n",
    "         'num_heads': 8,\n",
    "         'dff': 2048,\n",
    "         'input_vocab_size': vocab_size,\n",
    "         'target_vocab_size': vocab_size,\n",
    "         'maximum_position_encoding': MAX_SEQUENCE,\n",
    "         'end_token_idx': char2idx[end_index],\n",
    "         'rate': 0.1\n",
    "        }"
   ]
  },
  {
   "cell_type": "code",
   "execution_count": 27,
   "metadata": {},
   "outputs": [],
   "source": [
    "loss_object = tf.keras.losses.SparseCategoricalCrossentropy(from_logits=True, reduction='none')\n",
    "train_accuracy = tf.keras.metrics.SparseCategoricalAccuracy(name='accuracy')\n",
    "\n",
    "def loss(real, pred) :\n",
    "    mask = tf.math.not_equal(real, 0)\n",
    "    loss_ = loss_object(real, pred)\n",
    "    mask = tf.cast(mask, dtype=loss_.dtype)\n",
    "    loss_*=mask\n",
    "    return tf.reduce_mean(loss_)\n",
    "\n",
    "def accuracy(real, pred) :\n",
    "    mask = tf.math.not_equal(real, 0)\n",
    "    mask = tf.expand_dims(tf.cast(mask, dtype=pred.dtype), axis=-1)\n",
    "    pred *= mask\n",
    "    acc = train_accuracy(real, pred)\n",
    "    return tf.reduce_mean(acc)\n",
    "\n",
    "model = Transformer(**kargs)\n",
    "model.compile(optimizer=tf.keras.optimizers.Adam(1e-4), loss=loss, metrics=[accuracy])"
   ]
  },
  {
   "cell_type": "code",
   "execution_count": 25,
   "metadata": {},
   "outputs": [],
   "source": [
    "es_callback = EarlyStopping(monitor='val_accuracy', min_delta=0.0001, patience=1)\n",
    "model_name = f\"weights_{kargs['num_layers']}layers_{kargs['d_model']}d_model_{kargs['num_heads']}num_heads.h5\"\n",
    "checkpoint_path = os.path.join(DATA_OUT_PATH, model_name)\n",
    "checkpoint_dir = os.path.dirname(checkpoint_path)"
   ]
  },
  {
   "cell_type": "code",
   "execution_count": 26,
   "metadata": {},
   "outputs": [
    {
     "name": "stdout",
     "output_type": "stream",
     "text": [
      "c:\\Users\\user\\Desktop\\github\\Study\\NLP\\06.text_generation\\result\\transformer_kor -- Folder already exists\n"
     ]
    }
   ],
   "source": [
    "if os.path.exists(checkpoint_dir) :\n",
    "    print(\"{} -- Folder already exists\".format(checkpoint_dir))\n",
    "else :\n",
    "    os.makedirs(checkpoint_dir, exist_ok=True)\n",
    "    print(\"{} -- Folder Created\".format(checkpoint_dir))"
   ]
  },
  {
   "cell_type": "code",
   "execution_count": 24,
   "metadata": {},
   "outputs": [
    {
     "name": "stdout",
     "output_type": "stream",
     "text": [
      "167/167 [==============================] - ETA: 0s - loss: 1.3871 - accuracy: 0.8549\n",
      "Epoch 1: val_accuracy improved from -inf to 0.85283, saving model to c:\\Users\\user\\Desktop\\github\\Study\\NLP\\06.text_generation\\result\\transformer_kor\\weights_4layers_512d_model_8num_heads.h5\n",
      "167/167 [==============================] - 359s 2s/step - loss: 1.3871 - accuracy: 0.8549 - val_loss: 1.5321 - val_accuracy: 0.8528\n"
     ]
    }
   ],
   "source": [
    "cp_callback = ModelCheckpoint(checkpoint_path, monitor='val_accuracy', verbose=1, save_best_only=True, save_weights_only=True)\n",
    "history = model.fit([index_inputs, index_outputs], index_targets, \n",
    "                        batch_size=BATCH_SIZE, epochs =EPOCHS, validation_split=VALID_SPLIT,\n",
    "                        callbacks=[es_callback, cp_callback])"
   ]
  },
  {
   "cell_type": "code",
   "execution_count": 25,
   "metadata": {},
   "outputs": [],
   "source": [
    "def plot_graphs(history, string):\n",
    "    plt.plot(history.history[string])\n",
    "    plt.plot(history.history['val_'+string], '')\n",
    "    plt.xlabel(\"Epochs\")\n",
    "    plt.ylabel(string)\n",
    "    plt.legend([string, 'val_'+string])\n",
    "    plt.show()"
   ]
  },
  {
   "cell_type": "code",
   "execution_count": 26,
   "metadata": {},
   "outputs": [
    {
     "data": {
      "image/png": "[encoded data removed]",
      "text/plain": [
       "<Figure size 432x288 with 1 Axes>"
      ]
     },
     "metadata": {
      "needs_background": "light"
     },
     "output_type": "display_data"
    }
   ],
   "source": [
    "plot_graphs(history, 'accuracy')"
   ]
  },
  {
   "cell_type": "code",
   "execution_count": 27,
   "metadata": {},
   "outputs": [
    {
     "data": {
      "image/png": "[encoded data removed]",
      "text/plain": [
       "<Figure size 432x288 with 1 Axes>"
      ]
     },
     "metadata": {
      "needs_background": "light"
     },
     "output_type": "display_data"
    }
   ],
   "source": [
    "plot_graphs(history, 'loss')"
   ]
  },
  {
   "cell_type": "code",
   "execution_count": 28,
   "metadata": {},
   "outputs": [],
   "source": [
    "char2idx = prepro_configs['char2idx']\n",
    "idx2char = prepro_configs['idx2char']"
   ]
  },
  {
   "cell_type": "code",
   "execution_count": null,
   "metadata": {},
   "outputs": [],
   "source": [
    "text = \"남자친구 승진 선물로 뭐가 좋을까?\"\n",
    "test_index_inputs, _ = enc_processing([text], char2idx)\n",
    "outputs = model.inference(test_index_inputs)\n",
    "\n",
    "print(' '.join([idx2char[str(o)] for o in outputs]))"
   ]
  },
  {
   "cell_type": "code",
   "execution_count": 32,
   "metadata": {},
   "outputs": [
    {
     "data": {
      "text/plain": [
       "[]"
      ]
     },
     "execution_count": 32,
     "metadata": {},
     "output_type": "execute_result"
    }
   ],
   "source": [
    "outputs"
   ]
  },
  {
   "attachments": {},
   "cell_type": "markdown",
   "metadata": {},
   "source": [
    "# **Load Weights**"
   ]
  },
  {
   "cell_type": "code",
   "execution_count": 30,
   "metadata": {},
   "outputs": [
    {
     "name": "stdout",
     "output_type": "stream",
     "text": [
      "1/1 [==============================] - 11s 11s/step - loss: 1.9870 - accuracy: 0.8012\n"
     ]
    }
   ],
   "source": [
    "def load_model_with_little_train() :\n",
    "    EPOCH, BATCH_SIZE = 1, 64\n",
    "    load_model = Transformer(**kargs)\n",
    "    load_model.compile(optimizer=tf.keras.optimizers.Adam(1e-4), loss=loss, metrics=[accuracy])\n",
    "    history = load_model.fit([index_inputs[:BATCH_SIZE], index_outputs[:BATCH_SIZE]], index_targets[:BATCH_SIZE], batch_size=BATCH_SIZE, epochs=EPOCH)\n",
    "    return load_model\n",
    "\n",
    "\n",
    "model_name = f\"weights_{kargs['num_layers']}layers_{kargs['d_model']}d_model_{kargs['num_heads']}num_heads_best.h5\"\n",
    "load_model = load_model_with_little_train()\n",
    "load_model.load_weights(os.path.join(DATA_OUT_PATH, model_name))"
   ]
  },
  {
   "cell_type": "code",
   "execution_count": 38,
   "metadata": {},
   "outputs": [
    {
     "name": "stdout",
     "output_type": "stream",
     "text": [
      "안녕하세요\n"
     ]
    }
   ],
   "source": [
    "char2idx = prepro_configs['char2idx']\n",
    "idx2char = prepro_configs['idx2char']\n",
    "\n",
    "text = \"안녕\"\n",
    "test_index_inputs, _ = enc_processing([text], char2idx)\n",
    "outputs = load_model.inference(test_index_inputs)\n",
    "print(' '.join([idx2char[str(o)] for o in outputs]))"
   ]
  },
  {
   "cell_type": "code",
   "execution_count": 39,
   "metadata": {},
   "outputs": [
    {
     "name": "stdout",
     "output_type": "stream",
     "text": [
      "저랑 놀아요\n"
     ]
    }
   ],
   "source": [
    "text = \"뭐하고 있어?\"\n",
    "test_index_inputs, _ = enc_processing([text], char2idx)\n",
    "outputs = load_model.inference(test_index_inputs)\n",
    "print(' '.join([idx2char[str(o)] for o in outputs]))"
   ]
  },
  {
   "cell_type": "code",
   "execution_count": 45,
   "metadata": {},
   "outputs": [
    {
     "name": "stdout",
     "output_type": "stream",
     "text": [
      "저랑 놀아요\n"
     ]
    }
   ],
   "source": [
    "text = \"뭐하고 놀까?\"\n",
    "test_index_inputs, _ = enc_processing([text], char2idx)\n",
    "outputs = load_model.inference(test_index_inputs)\n",
    "print(' '.join([idx2char[str(o)] for o in outputs]))"
   ]
  },
  {
   "cell_type": "code",
   "execution_count": 46,
   "metadata": {},
   "outputs": [
    {
     "name": "stdout",
     "output_type": "stream",
     "text": [
      "충분히 힘들지 않았으면 좋겠어요\n"
     ]
    }
   ],
   "source": [
    "text = \"음.. 그럼 카톡할까?\"\n",
    "test_index_inputs, _ = enc_processing([text], char2idx)\n",
    "outputs = load_model.inference(test_index_inputs)\n",
    "print(' '.join([idx2char[str(o)] for o in outputs]))"
   ]
  },
  {
   "cell_type": "code",
   "execution_count": 47,
   "metadata": {},
   "outputs": [
    {
     "name": "stdout",
     "output_type": "stream",
     "text": [
      "나쁜 사람이 있을 것 같아요\n"
     ]
    }
   ],
   "source": [
    "text = \"난 안힘든데?\"\n",
    "test_index_inputs, _ = enc_processing([text], char2idx)\n",
    "outputs = load_model.inference(test_index_inputs)\n",
    "print(' '.join([idx2char[str(o)] for o in outputs]))"
   ]
  },
  {
   "cell_type": "code",
   "execution_count": 48,
   "metadata": {},
   "outputs": [
    {
     "name": "stdout",
     "output_type": "stream",
     "text": [
      "그렇게 이야기네요\n"
     ]
    }
   ],
   "source": [
    "text = \"주변에 다 좋은 사람들 뿐인데?\"\n",
    "test_index_inputs, _ = enc_processing([text], char2idx)\n",
    "outputs = load_model.inference(test_index_inputs)\n",
    "print(' '.join([idx2char[str(o)] for o in outputs]))"
   ]
  },
  {
   "cell_type": "code",
   "execution_count": null,
   "metadata": {},
   "outputs": [],
   "source": []
  }
 ],
 "metadata": {
  "kernelspec": {
   "display_name": "nlpproject",
   "language": "python",
   "name": "python3"
  },
  "language_info": {
   "codemirror_mode": {
    "name": "ipython",
    "version": 3
   },
   "file_extension": ".py",
   "mimetype": "text/x-python",
   "name": "python",
   "nbconvert_exporter": "python",
   "pygments_lexer": "ipython3",
   "version": "3.10.4"
  },
  "orig_nbformat": 4,
  "vscode": {
   "interpreter": {
    "hash": "3310d3cabcfe43f301d4126367e060a82f3896ba0e1f05dc3836dac6c22dd9a3"
   }
  }
 },
 "nbformat": 4,
 "nbformat_minor": 2
}
